{
 "cells": [
  {
   "cell_type": "markdown",
   "id": "b4c77250-bc57-4673-ac09-2096e31e9ff4",
   "metadata": {},
   "source": [
    "# Install required packages"
   ]
  },
  {
   "cell_type": "code",
   "execution_count": 1,
   "id": "528e877c-6f68-4763-a0a4-f2890f449a3d",
   "metadata": {
    "scrolled": true
   },
   "outputs": [],
   "source": [
    "#!pip install revealer\n",
    "#!pip install -r requirements.txt"
   ]
  },
  {
   "cell_type": "markdown",
   "id": "161484ce-2cfe-4540-99cd-54da06095faf",
   "metadata": {},
   "source": [
    "# Import functions to prepare input files and run REVEALER"
   ]
  },
  {
   "cell_type": "code",
   "execution_count": 2,
   "id": "646ddf0f-1da7-4fe0-acc1-578359e09965",
   "metadata": {},
   "outputs": [],
   "source": [
    "from REVEALER.MutMaker import produce_mutation_file\n",
    "from REVEALER.REVEALER_Cython import runREVEALER"
   ]
  },
  {
   "cell_type": "markdown",
   "id": "334c1b4b-11b5-486b-8ae5-f59f5ac2c39e",
   "metadata": {},
   "source": [
    "# Please download this file and put in sample_input folder. \n",
    "# https://depmap.org/portal/download/all/?releasename=DepMap+Public+23Q2&filename=OmicsSomaticMutations.csv"
   ]
  },
  {
   "cell_type": "markdown",
   "id": "11d1b1bf-cf99-42d0-a91b-a830b988bbb7",
   "metadata": {},
   "source": [
    "# Run input preparation from maf file (simplified)"
   ]
  },
  {
   "cell_type": "code",
   "execution_count": 3,
   "id": "c0b81bdb-4df1-497b-b2ba-9e492e2b29dd",
   "metadata": {},
   "outputs": [
    {
     "name": "stdout",
     "output_type": "stream",
     "text": [
      "Reading input file...\n",
      "Start making gct by class.\n",
      "Start getting sample information.\n",
      "Start collecting allele information for each feature.\n",
      "Start creating mutation dataframe.\n",
      "Start removing feature with more than total_ratio.\n",
      "Start generating gmt file.\n",
      "Writing class result to gct.\n"
     ]
    }
   ],
   "source": [
    "produce_mutation_file(maf_input_file='sample_input/OmicsSomaticMutations.csv', # Input maf file\n",
    "                      gct_output_file_prefix='CCLE', # Prefix for output file\n",
    "                      out_folder='sample_input',\n",
    "                     file_separator=',',\n",
    "                     protein_change_identifier='ProteinChange',\n",
    "                     col_genename = 'HugoSymbol',\n",
    "                     col_class = 'VariantType',\n",
    "                     col_sample = 'ModelID') # Folder for outputs"
   ]
  },
  {
   "cell_type": "markdown",
   "id": "56ca6915-762b-428a-a41d-85c91b5ea778",
   "metadata": {},
   "source": [
    "# Convert annotation between DepMap and CCLE to match with our signature file"
   ]
  },
  {
   "cell_type": "code",
   "execution_count": 33,
   "id": "e9d56aa9-0129-43ba-8fda-f5647476d0b2",
   "metadata": {},
   "outputs": [],
   "source": [
    "!python DepMapToCCLE.py sample_input/NameConvert.csv sample_input/CCLE_class.gct sample_input/CCLE_class_rename.gct"
   ]
  },
  {
   "cell_type": "markdown",
   "id": "0c28bd59-3937-4651-afdd-26223438bcdd",
   "metadata": {},
   "source": [
    "# Run main part of REVEALER"
   ]
  },
  {
   "cell_type": "code",
   "execution_count": 35,
   "id": "1ebee9a3-ea66-40bd-87dd-860da5529d65",
   "metadata": {
    "scrolled": true
   },
   "outputs": [
    {
     "name": "stdout",
     "output_type": "stream",
     "text": [
      "CCLE_NRF2 start!\n",
      "seed_file issample_input/CCLE_class_rename.gct\n",
      "Start reading input files...\n",
      "Done reading input files\n",
      "Time used to read input: 80 second(s)\n",
      "Number of features that pass the threshold is: 39067\n",
      "Number of samples is: 1093\n",
      "\n",
      "grid size: 34\n",
      "bandwidth: 0.4124657713208363\n",
      "seed Search...\n",
      "Picked seed is: KEAP1_Mut_All\n",
      "Iteration1:\n",
      "Time used to run one loop: 2 second(s)\n",
      "CIC calculated in this round is: 0.18378124249088507\n",
      "Best feature choosen in this round is: CDH9_SNP\n",
      "IC of new seed is: 0.273870847164384\n",
      "Iteration2:\n",
      "Time used to run one loop: 2 second(s)\n",
      "CIC calculated in this round is: 0.17133718793543173\n",
      "Best feature choosen in this round is: NFE2L2_Mut_All\n",
      "IC of new seed is: 0.303133076874461\n",
      "Iteration3:\n",
      "Time used to run one loop: 2 second(s)\n",
      "CIC calculated in this round is: 0.1743708711244963\n",
      "Best feature choosen in this round is: PCDHB14_SNP\n",
      "IC of new seed is: 0.3040030288325059\n",
      "Iteration4:\n",
      "Time used to run one loop: 2 second(s)\n",
      "CIC calculated in this round is: 0.1720045967704106\n",
      "Best feature choosen in this round is: SPARCL1_SNP\n",
      "IC of new seed is: 0.3072805063999806\n",
      "Iteration5:\n",
      "Time used to run one loop: 2 second(s)\n",
      "CIC calculated in this round is: 0.17331828603173507\n",
      "Best feature choosen in this round is: SMG6_Mut_All\n",
      "IC of new seed is: 0.31990620603070735\n",
      "Iteration6:\n",
      "Time used to run one loop: 2 second(s)\n",
      "CIC calculated in this round is: 0.16982472957030784\n",
      "Best feature choosen in this round is: CEP295_Mut_All\n",
      "IC of new seed is: 0.32971613066973426\n",
      "Iteration7:\n",
      "Time used to run one loop: 2 second(s)\n",
      "CIC calculated in this round is: 0.1908030904489468\n",
      "Best feature choosen in this round is: ADNP_Mut_All\n",
      "IC of new seed is: 0.3483063510198197\n",
      "Iteration8:\n",
      "Time used to run one loop: 2 second(s)\n",
      "CIC calculated in this round is: 0.17420874461643776\n",
      "Best feature choosen in this round is: WDR78_SNP\n",
      "IC of new seed is: 0.3592157690492461\n",
      "Iteration9:\n",
      "Time used to run one loop: 2 second(s)\n",
      "CIC calculated in this round is: 0.16914267449902592\n",
      "Best feature choosen in this round is: KEAP1_SNP\n",
      "IC of new seed is: 0.3592157690492461\n",
      "Time used to run loops: 191 second(s)\n"
     ]
    },
    {
     "data": {
      "text/plain": [
       "(           HUH1_LIVER  SNU878_LIVER  NCIH2122_LUNG  JHH5_LIVER  \\\n",
       " Name                                                             \n",
       " NFE2L2.V2    5.383385      5.300293       4.117534    3.900954   \n",
       " \n",
       "            TFK1_BILIARY_TRACT  LUDLU1_LUNG  NCIH2023_LUNG  \\\n",
       " Name                                                        \n",
       " NFE2L2.V2             3.86719      3.75718       3.685234   \n",
       " \n",
       "            KON_UPPER_AERODIGESTIVE_TRACT  BEN_LUNG  BC3C_URINARY_TRACT  ...  \\\n",
       " Name                                                                    ...   \n",
       " NFE2L2.V2                       3.671585   3.67088            3.572737  ...   \n",
       " \n",
       "            DMS114_LUNG  NCIH1092_LUNG  NCIH1184_LUNG  NCIH1105_LUNG  \\\n",
       " Name                                                                  \n",
       " NFE2L2.V2    -1.697755       -1.70456      -1.766781      -1.789892   \n",
       " \n",
       "            KARPAS422_HAEMATOPOIETIC_AND_LYMPHOID_TISSUE  IALM_LUNG  \\\n",
       " Name                                                                 \n",
       " NFE2L2.V2                                     -1.790958  -1.795494   \n",
       " \n",
       "            SKLMS1_SOFT_TISSUE  NCIH1618_LUNG  NCIH1876_LUNG  NCIH650_LUNG  \n",
       " Name                                                                       \n",
       " NFE2L2.V2           -1.829277      -1.999727      -2.395656     -2.543037  \n",
       " \n",
       " [1 rows x 1094 columns],\n",
       " None,\n",
       "                    HUH1_LIVER  SNU878_LIVER  NCIH2122_LUNG  JHH5_LIVER  \\\n",
       " Name                                                                     \n",
       " C1QTNF12_SNP              0.0           0.0            0.0         0.0   \n",
       " C1QTNF12_DNP              0.0           0.0            0.0         0.0   \n",
       " C1QTNF12_Mut_All          0.0           0.0            0.0         0.0   \n",
       " CASZ1_DEL                 0.0           0.0            0.0         0.0   \n",
       " PRAMEF13_DNP              0.0           0.0            0.0         0.0   \n",
       " ...                       ...           ...            ...         ...   \n",
       " MRPL48_Mut_All            0.0           0.0            0.0         0.0   \n",
       " EEF1AKMT3_SNP             0.0           0.0            0.0         0.0   \n",
       " EEF1AKMT3_Mut_All         0.0           0.0            0.0         0.0   \n",
       " SSR2_SNP                  0.0           0.0            0.0         1.0   \n",
       " SSR2_Mut_All              0.0           0.0            0.0         1.0   \n",
       " \n",
       "                    TFK1_BILIARY_TRACT  LUDLU1_LUNG  NCIH2023_LUNG  \\\n",
       " Name                                                                \n",
       " C1QTNF12_SNP                      1.0          0.0            0.0   \n",
       " C1QTNF12_DNP                      0.0          0.0            0.0   \n",
       " C1QTNF12_Mut_All                  1.0          0.0            0.0   \n",
       " CASZ1_DEL                         0.0          0.0            0.0   \n",
       " PRAMEF13_DNP                      0.0          0.0            0.0   \n",
       " ...                               ...          ...            ...   \n",
       " MRPL48_Mut_All                    0.0          0.0            0.0   \n",
       " EEF1AKMT3_SNP                     0.0          0.0            0.0   \n",
       " EEF1AKMT3_Mut_All                 0.0          0.0            0.0   \n",
       " SSR2_SNP                          0.0          0.0            0.0   \n",
       " SSR2_Mut_All                      0.0          0.0            0.0   \n",
       " \n",
       "                    KON_UPPER_AERODIGESTIVE_TRACT  BEN_LUNG  \\\n",
       " Name                                                         \n",
       " C1QTNF12_SNP                                 0.0       0.0   \n",
       " C1QTNF12_DNP                                 0.0       0.0   \n",
       " C1QTNF12_Mut_All                             0.0       0.0   \n",
       " CASZ1_DEL                                    0.0       0.0   \n",
       " PRAMEF13_DNP                                 0.0       0.0   \n",
       " ...                                          ...       ...   \n",
       " MRPL48_Mut_All                               0.0       0.0   \n",
       " EEF1AKMT3_SNP                                0.0       0.0   \n",
       " EEF1AKMT3_Mut_All                            0.0       0.0   \n",
       " SSR2_SNP                                     0.0       0.0   \n",
       " SSR2_Mut_All                                 0.0       0.0   \n",
       " \n",
       "                    BC3C_URINARY_TRACT  ...  DMS114_LUNG  NCIH1092_LUNG  \\\n",
       " Name                                   ...                               \n",
       " C1QTNF12_SNP                      0.0  ...          0.0            0.0   \n",
       " C1QTNF12_DNP                      0.0  ...          0.0            0.0   \n",
       " C1QTNF12_Mut_All                  0.0  ...          0.0            0.0   \n",
       " CASZ1_DEL                         0.0  ...          0.0            0.0   \n",
       " PRAMEF13_DNP                      0.0  ...          0.0            0.0   \n",
       " ...                               ...  ...          ...            ...   \n",
       " MRPL48_Mut_All                    0.0  ...          0.0            0.0   \n",
       " EEF1AKMT3_SNP                     0.0  ...          0.0            0.0   \n",
       " EEF1AKMT3_Mut_All                 0.0  ...          0.0            0.0   \n",
       " SSR2_SNP                          0.0  ...          0.0            0.0   \n",
       " SSR2_Mut_All                      0.0  ...          0.0            0.0   \n",
       " \n",
       "                    NCIH1184_LUNG  NCIH1105_LUNG  \\\n",
       " Name                                              \n",
       " C1QTNF12_SNP                 0.0            0.0   \n",
       " C1QTNF12_DNP                 0.0            0.0   \n",
       " C1QTNF12_Mut_All             0.0            0.0   \n",
       " CASZ1_DEL                    0.0            0.0   \n",
       " PRAMEF13_DNP                 0.0            0.0   \n",
       " ...                          ...            ...   \n",
       " MRPL48_Mut_All               0.0            0.0   \n",
       " EEF1AKMT3_SNP                0.0            0.0   \n",
       " EEF1AKMT3_Mut_All            0.0            0.0   \n",
       " SSR2_SNP                     0.0            0.0   \n",
       " SSR2_Mut_All                 0.0            0.0   \n",
       " \n",
       "                    KARPAS422_HAEMATOPOIETIC_AND_LYMPHOID_TISSUE  IALM_LUNG  \\\n",
       " Name                                                                         \n",
       " C1QTNF12_SNP                                                0.0        0.0   \n",
       " C1QTNF12_DNP                                                0.0        0.0   \n",
       " C1QTNF12_Mut_All                                            0.0        0.0   \n",
       " CASZ1_DEL                                                   0.0        0.0   \n",
       " PRAMEF13_DNP                                                0.0        0.0   \n",
       " ...                                                         ...        ...   \n",
       " MRPL48_Mut_All                                              0.0        0.0   \n",
       " EEF1AKMT3_SNP                                               0.0        0.0   \n",
       " EEF1AKMT3_Mut_All                                           0.0        0.0   \n",
       " SSR2_SNP                                                    0.0        0.0   \n",
       " SSR2_Mut_All                                                0.0        0.0   \n",
       " \n",
       "                    SKLMS1_SOFT_TISSUE  NCIH1618_LUNG  NCIH1876_LUNG  \\\n",
       " Name                                                                  \n",
       " C1QTNF12_SNP                      0.0            0.0            0.0   \n",
       " C1QTNF12_DNP                      0.0            0.0            0.0   \n",
       " C1QTNF12_Mut_All                  0.0            0.0            0.0   \n",
       " CASZ1_DEL                         0.0            0.0            0.0   \n",
       " PRAMEF13_DNP                      0.0            0.0            0.0   \n",
       " ...                               ...            ...            ...   \n",
       " MRPL48_Mut_All                    0.0            0.0            0.0   \n",
       " EEF1AKMT3_SNP                     0.0            0.0            0.0   \n",
       " EEF1AKMT3_Mut_All                 0.0            0.0            0.0   \n",
       " SSR2_SNP                          0.0            0.0            0.0   \n",
       " SSR2_Mut_All                      0.0            0.0            0.0   \n",
       " \n",
       "                    NCIH650_LUNG  \n",
       " Name                             \n",
       " C1QTNF12_SNP                0.0  \n",
       " C1QTNF12_DNP                0.0  \n",
       " C1QTNF12_Mut_All            0.0  \n",
       " CASZ1_DEL                   0.0  \n",
       " PRAMEF13_DNP                0.0  \n",
       " ...                         ...  \n",
       " MRPL48_Mut_All              0.0  \n",
       " EEF1AKMT3_SNP               0.0  \n",
       " EEF1AKMT3_Mut_All           0.0  \n",
       " SSR2_SNP                    0.0  \n",
       " SSR2_Mut_All                0.0  \n",
       " \n",
       " [39067 rows x 1094 columns])"
      ]
     },
     "execution_count": 35,
     "metadata": {},
     "output_type": "execute_result"
    }
   ],
   "source": [
    "# Input too large, please contact jim095@ucsd.edu for original file\n",
    "runREVEALER(target_file='sample_input/CCLE_complete_sigs.gct',\n",
    "            feature_file='sample_input/CCLE_class_rename.gct',\n",
    "            gmt_file='sample_input/CCLE_class.gmt',\n",
    "            #seed_name=['NFE2L2_Mut_All'],\n",
    "            out_folder='sample_output/NRF2',\n",
    "            prefix='CCLE_NRF2',\n",
    "            target_name='NFE2L2.V2',\n",
    "            if_pval=False, # Calculating p-value takes long time\n",
    "            if_bootstrap=False, # Same, takes long time\n",
    "            if_intermediate=True,\n",
    "            gene_locus='sample_input/allgeneLocus.txt',\n",
    "            tissue_file = 'sample_input/TissueType_CCLE.gct')"
   ]
  },
  {
   "cell_type": "code",
   "execution_count": null,
   "id": "5e77e439-8d6b-4cd9-ae25-7505af0f13c1",
   "metadata": {},
   "outputs": [],
   "source": []
  }
 ],
 "metadata": {
  "kernelspec": {
   "display_name": "python_revealer",
   "language": "python",
   "name": "python_revealer"
  },
  "language_info": {
   "codemirror_mode": {
    "name": "ipython",
    "version": 3
   },
   "file_extension": ".py",
   "mimetype": "text/x-python",
   "name": "python",
   "nbconvert_exporter": "python",
   "pygments_lexer": "ipython3",
   "version": "3.9.18"
  }
 },
 "nbformat": 4,
 "nbformat_minor": 5
}
