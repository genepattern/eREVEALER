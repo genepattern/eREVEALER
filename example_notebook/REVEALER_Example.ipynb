{
 "cells": [
  {
   "cell_type": "markdown",
   "id": "b4c77250-bc57-4673-ac09-2096e31e9ff4",
   "metadata": {},
   "source": [
    "# Install required packages"
   ]
  },
  {
   "cell_type": "code",
   "execution_count": 20,
   "id": "528e877c-6f68-4763-a0a4-f2890f449a3d",
   "metadata": {
    "scrolled": true
   },
   "outputs": [],
   "source": [
    "#!pip install -r requirements.txt"
   ]
  },
  {
   "cell_type": "markdown",
   "id": "161484ce-2cfe-4540-99cd-54da06095faf",
   "metadata": {},
   "source": [
    "# Import functions to prepare input files and run REVEALER"
   ]
  },
  {
   "cell_type": "code",
   "execution_count": 23,
   "id": "646ddf0f-1da7-4fe0-acc1-578359e09965",
   "metadata": {},
   "outputs": [],
   "source": [
    "from REVEALER.MutMaker import produce_mutation_file\n",
    "from REVEALER.REVEALER_Cython import runREVEALER"
   ]
  },
  {
   "cell_type": "markdown",
   "id": "11d1b1bf-cf99-42d0-a91b-a830b988bbb7",
   "metadata": {},
   "source": [
    "# Run input preparation from maf file (simplified)"
   ]
  },
  {
   "cell_type": "code",
   "execution_count": 24,
   "id": "c0b81bdb-4df1-497b-b2ba-9e492e2b29dd",
   "metadata": {
    "collapsed": true
   },
   "outputs": [
    {
     "name": "stdout",
     "output_type": "stream",
     "text": [
      "Reading input file...\n"
     ]
    },
    {
     "ename": "FileNotFoundError",
     "evalue": "[Errno 2] No such file or directory: 'sample_input/CCLE_mutations_v2.txt'",
     "output_type": "error",
     "traceback": [
      "\u001b[0;31m---------------------------------------------------------------------------\u001b[0m",
      "\u001b[0;31mFileNotFoundError\u001b[0m                         Traceback (most recent call last)",
      "Cell \u001b[0;32mIn[24], line 1\u001b[0m\n\u001b[0;32m----> 1\u001b[0m \u001b[43mproduce_mutation_file\u001b[49m\u001b[43m(\u001b[49m\u001b[43mmaf_input_file\u001b[49m\u001b[38;5;241;43m=\u001b[39;49m\u001b[38;5;124;43m'\u001b[39;49m\u001b[38;5;124;43msample_input/CCLE_mutations_v2.txt\u001b[39;49m\u001b[38;5;124;43m'\u001b[39;49m\u001b[43m,\u001b[49m\u001b[43m \u001b[49m\u001b[38;5;66;43;03m# Input maf file\u001b[39;49;00m\n\u001b[1;32m      2\u001b[0m \u001b[43m                      \u001b[49m\u001b[43mprotein_change_identifier\u001b[49m\u001b[38;5;241;43m=\u001b[39;49m\u001b[38;5;124;43m'\u001b[39;49m\u001b[38;5;124;43mProtein_Change\u001b[39;49m\u001b[38;5;124;43m'\u001b[39;49m\u001b[43m,\u001b[49m\u001b[43m \u001b[49m\u001b[38;5;66;43;03m# Identifier for protein_change\u001b[39;49;00m\n\u001b[1;32m      3\u001b[0m \u001b[43m                      \u001b[49m\u001b[43mgct_output_file_prefix\u001b[49m\u001b[38;5;241;43m=\u001b[39;49m\u001b[38;5;124;43m'\u001b[39;49m\u001b[38;5;124;43mCCLE\u001b[39;49m\u001b[38;5;124;43m'\u001b[39;49m\u001b[43m,\u001b[49m\u001b[43m \u001b[49m\u001b[38;5;66;43;03m# Prefix for output file\u001b[39;49;00m\n\u001b[1;32m      4\u001b[0m \u001b[43m                      \u001b[49m\u001b[43mout_folder\u001b[49m\u001b[38;5;241;43m=\u001b[39;49m\u001b[38;5;124;43m'\u001b[39;49m\u001b[38;5;124;43msample_output/preprocess\u001b[39;49m\u001b[38;5;124;43m'\u001b[39;49m\u001b[43m)\u001b[49m \u001b[38;5;66;03m# Folder for outputs\u001b[39;00m\n",
      "File \u001b[0;32m/mnt/d/OneDrive - Northwestern University/REVEALER/REVEALER-0.0.204/REVEALER/MutMaker.pyx:843\u001b[0m, in \u001b[0;36mREVEALER.MutMaker.produce_mutation_file\u001b[0;34m()\u001b[0m\n\u001b[1;32m    841\u001b[0m @cython.initializedcheck(False)\n\u001b[1;32m    842\u001b[0m @cython.cdivision(True)\n\u001b[0;32m--> 843\u001b[0m cpdef produce_mutation_file(\n\u001b[1;32m    844\u001b[0m     maf_input_file = None, # Input file with maf format.\n\u001b[1;32m    845\u001b[0m     gct_input_file = None, # Input file with gct format.\n",
      "File \u001b[0;32m/mnt/d/OneDrive - Northwestern University/REVEALER/REVEALER-0.0.204/REVEALER/MutMaker.pyx:913\u001b[0m, in \u001b[0;36mREVEALER.MutMaker.produce_mutation_file\u001b[0;34m()\u001b[0m\n\u001b[1;32m    911\u001b[0m if verbose > 0:\n\u001b[1;32m    912\u001b[0m     print('Reading input file...')\n\u001b[0;32m--> 913\u001b[0m ds= pd.read_csv(maf_input_file, sep=file_separator, header=0, index_col=None, dtype=str)\n\u001b[1;32m    914\u001b[0m ds=ds.loc[:,['Hugo_Symbol','Variant_Classification', 'Tumor_Sample_Barcode', protein_change_identifier]]\n\u001b[1;32m    915\u001b[0m ds = ds[ds['Variant_Classification'].notna()]\n",
      "File \u001b[0;32m~/miniconda3/envs/revealer/lib/python3.9/site-packages/pandas/io/parsers.py:605\u001b[0m, in \u001b[0;36mread_csv\u001b[0;34m(filepath_or_buffer, sep, delimiter, header, names, index_col, usecols, squeeze, prefix, mangle_dupe_cols, dtype, engine, converters, true_values, false_values, skipinitialspace, skiprows, skipfooter, nrows, na_values, keep_default_na, na_filter, verbose, skip_blank_lines, parse_dates, infer_datetime_format, keep_date_col, date_parser, dayfirst, cache_dates, iterator, chunksize, compression, thousands, decimal, lineterminator, quotechar, quoting, doublequote, escapechar, comment, encoding, dialect, error_bad_lines, warn_bad_lines, delim_whitespace, low_memory, memory_map, float_precision, storage_options)\u001b[0m\n\u001b[1;32m    600\u001b[0m kwds_defaults \u001b[38;5;241m=\u001b[39m _refine_defaults_read(\n\u001b[1;32m    601\u001b[0m     dialect, delimiter, delim_whitespace, engine, sep, defaults\u001b[38;5;241m=\u001b[39m{\u001b[38;5;124m\"\u001b[39m\u001b[38;5;124mdelimiter\u001b[39m\u001b[38;5;124m\"\u001b[39m: \u001b[38;5;124m\"\u001b[39m\u001b[38;5;124m,\u001b[39m\u001b[38;5;124m\"\u001b[39m}\n\u001b[1;32m    602\u001b[0m )\n\u001b[1;32m    603\u001b[0m kwds\u001b[38;5;241m.\u001b[39mupdate(kwds_defaults)\n\u001b[0;32m--> 605\u001b[0m \u001b[38;5;28;01mreturn\u001b[39;00m \u001b[43m_read\u001b[49m\u001b[43m(\u001b[49m\u001b[43mfilepath_or_buffer\u001b[49m\u001b[43m,\u001b[49m\u001b[43m \u001b[49m\u001b[43mkwds\u001b[49m\u001b[43m)\u001b[49m\n",
      "File \u001b[0;32m~/miniconda3/envs/revealer/lib/python3.9/site-packages/pandas/io/parsers.py:457\u001b[0m, in \u001b[0;36m_read\u001b[0;34m(filepath_or_buffer, kwds)\u001b[0m\n\u001b[1;32m    454\u001b[0m _validate_names(kwds\u001b[38;5;241m.\u001b[39mget(\u001b[38;5;124m\"\u001b[39m\u001b[38;5;124mnames\u001b[39m\u001b[38;5;124m\"\u001b[39m, \u001b[38;5;28;01mNone\u001b[39;00m))\n\u001b[1;32m    456\u001b[0m \u001b[38;5;66;03m# Create the parser.\u001b[39;00m\n\u001b[0;32m--> 457\u001b[0m parser \u001b[38;5;241m=\u001b[39m \u001b[43mTextFileReader\u001b[49m\u001b[43m(\u001b[49m\u001b[43mfilepath_or_buffer\u001b[49m\u001b[43m,\u001b[49m\u001b[43m \u001b[49m\u001b[38;5;241;43m*\u001b[39;49m\u001b[38;5;241;43m*\u001b[39;49m\u001b[43mkwds\u001b[49m\u001b[43m)\u001b[49m\n\u001b[1;32m    459\u001b[0m \u001b[38;5;28;01mif\u001b[39;00m chunksize \u001b[38;5;129;01mor\u001b[39;00m iterator:\n\u001b[1;32m    460\u001b[0m     \u001b[38;5;28;01mreturn\u001b[39;00m parser\n",
      "File \u001b[0;32m~/miniconda3/envs/revealer/lib/python3.9/site-packages/pandas/io/parsers.py:814\u001b[0m, in \u001b[0;36mTextFileReader.__init__\u001b[0;34m(self, f, engine, **kwds)\u001b[0m\n\u001b[1;32m    811\u001b[0m \u001b[38;5;28;01mif\u001b[39;00m \u001b[38;5;124m\"\u001b[39m\u001b[38;5;124mhas_index_names\u001b[39m\u001b[38;5;124m\"\u001b[39m \u001b[38;5;129;01min\u001b[39;00m kwds:\n\u001b[1;32m    812\u001b[0m     \u001b[38;5;28mself\u001b[39m\u001b[38;5;241m.\u001b[39moptions[\u001b[38;5;124m\"\u001b[39m\u001b[38;5;124mhas_index_names\u001b[39m\u001b[38;5;124m\"\u001b[39m] \u001b[38;5;241m=\u001b[39m kwds[\u001b[38;5;124m\"\u001b[39m\u001b[38;5;124mhas_index_names\u001b[39m\u001b[38;5;124m\"\u001b[39m]\n\u001b[0;32m--> 814\u001b[0m \u001b[38;5;28mself\u001b[39m\u001b[38;5;241m.\u001b[39m_engine \u001b[38;5;241m=\u001b[39m \u001b[38;5;28;43mself\u001b[39;49m\u001b[38;5;241;43m.\u001b[39;49m\u001b[43m_make_engine\u001b[49m\u001b[43m(\u001b[49m\u001b[38;5;28;43mself\u001b[39;49m\u001b[38;5;241;43m.\u001b[39;49m\u001b[43mengine\u001b[49m\u001b[43m)\u001b[49m\n",
      "File \u001b[0;32m~/miniconda3/envs/revealer/lib/python3.9/site-packages/pandas/io/parsers.py:1045\u001b[0m, in \u001b[0;36mTextFileReader._make_engine\u001b[0;34m(self, engine)\u001b[0m\n\u001b[1;32m   1041\u001b[0m     \u001b[38;5;28;01mraise\u001b[39;00m \u001b[38;5;167;01mValueError\u001b[39;00m(\n\u001b[1;32m   1042\u001b[0m         \u001b[38;5;124mf\u001b[39m\u001b[38;5;124m\"\u001b[39m\u001b[38;5;124mUnknown engine: \u001b[39m\u001b[38;5;132;01m{\u001b[39;00mengine\u001b[38;5;132;01m}\u001b[39;00m\u001b[38;5;124m (valid options are \u001b[39m\u001b[38;5;132;01m{\u001b[39;00mmapping\u001b[38;5;241m.\u001b[39mkeys()\u001b[38;5;132;01m}\u001b[39;00m\u001b[38;5;124m)\u001b[39m\u001b[38;5;124m\"\u001b[39m\n\u001b[1;32m   1043\u001b[0m     )\n\u001b[1;32m   1044\u001b[0m \u001b[38;5;66;03m# error: Too many arguments for \"ParserBase\"\u001b[39;00m\n\u001b[0;32m-> 1045\u001b[0m \u001b[38;5;28;01mreturn\u001b[39;00m \u001b[43mmapping\u001b[49m\u001b[43m[\u001b[49m\u001b[43mengine\u001b[49m\u001b[43m]\u001b[49m\u001b[43m(\u001b[49m\u001b[38;5;28;43mself\u001b[39;49m\u001b[38;5;241;43m.\u001b[39;49m\u001b[43mf\u001b[49m\u001b[43m,\u001b[49m\u001b[43m \u001b[49m\u001b[38;5;241;43m*\u001b[39;49m\u001b[38;5;241;43m*\u001b[39;49m\u001b[38;5;28;43mself\u001b[39;49m\u001b[38;5;241;43m.\u001b[39;49m\u001b[43moptions\u001b[49m\u001b[43m)\u001b[49m\n",
      "File \u001b[0;32m~/miniconda3/envs/revealer/lib/python3.9/site-packages/pandas/io/parsers.py:1862\u001b[0m, in \u001b[0;36mCParserWrapper.__init__\u001b[0;34m(self, src, **kwds)\u001b[0m\n\u001b[1;32m   1859\u001b[0m kwds[\u001b[38;5;124m\"\u001b[39m\u001b[38;5;124musecols\u001b[39m\u001b[38;5;124m\"\u001b[39m] \u001b[38;5;241m=\u001b[39m \u001b[38;5;28mself\u001b[39m\u001b[38;5;241m.\u001b[39musecols\n\u001b[1;32m   1861\u001b[0m \u001b[38;5;66;03m# open handles\u001b[39;00m\n\u001b[0;32m-> 1862\u001b[0m \u001b[38;5;28;43mself\u001b[39;49m\u001b[38;5;241;43m.\u001b[39;49m\u001b[43m_open_handles\u001b[49m\u001b[43m(\u001b[49m\u001b[43msrc\u001b[49m\u001b[43m,\u001b[49m\u001b[43m \u001b[49m\u001b[43mkwds\u001b[49m\u001b[43m)\u001b[49m\n\u001b[1;32m   1863\u001b[0m \u001b[38;5;28;01massert\u001b[39;00m \u001b[38;5;28mself\u001b[39m\u001b[38;5;241m.\u001b[39mhandles \u001b[38;5;129;01mis\u001b[39;00m \u001b[38;5;129;01mnot\u001b[39;00m \u001b[38;5;28;01mNone\u001b[39;00m\n\u001b[1;32m   1864\u001b[0m \u001b[38;5;28;01mfor\u001b[39;00m key \u001b[38;5;129;01min\u001b[39;00m (\u001b[38;5;124m\"\u001b[39m\u001b[38;5;124mstorage_options\u001b[39m\u001b[38;5;124m\"\u001b[39m, \u001b[38;5;124m\"\u001b[39m\u001b[38;5;124mencoding\u001b[39m\u001b[38;5;124m\"\u001b[39m, \u001b[38;5;124m\"\u001b[39m\u001b[38;5;124mmemory_map\u001b[39m\u001b[38;5;124m\"\u001b[39m, \u001b[38;5;124m\"\u001b[39m\u001b[38;5;124mcompression\u001b[39m\u001b[38;5;124m\"\u001b[39m):\n",
      "File \u001b[0;32m~/miniconda3/envs/revealer/lib/python3.9/site-packages/pandas/io/parsers.py:1357\u001b[0m, in \u001b[0;36mParserBase._open_handles\u001b[0;34m(self, src, kwds)\u001b[0m\n\u001b[1;32m   1353\u001b[0m \u001b[38;5;28;01mdef\u001b[39;00m \u001b[38;5;21m_open_handles\u001b[39m(\u001b[38;5;28mself\u001b[39m, src: FilePathOrBuffer, kwds: Dict[\u001b[38;5;28mstr\u001b[39m, Any]) \u001b[38;5;241m-\u001b[39m\u001b[38;5;241m>\u001b[39m \u001b[38;5;28;01mNone\u001b[39;00m:\n\u001b[1;32m   1354\u001b[0m \u001b[38;5;250m    \u001b[39m\u001b[38;5;124;03m\"\"\"\u001b[39;00m\n\u001b[1;32m   1355\u001b[0m \u001b[38;5;124;03m    Let the readers open IOHanldes after they are done with their potential raises.\u001b[39;00m\n\u001b[1;32m   1356\u001b[0m \u001b[38;5;124;03m    \"\"\"\u001b[39;00m\n\u001b[0;32m-> 1357\u001b[0m     \u001b[38;5;28mself\u001b[39m\u001b[38;5;241m.\u001b[39mhandles \u001b[38;5;241m=\u001b[39m \u001b[43mget_handle\u001b[49m\u001b[43m(\u001b[49m\n\u001b[1;32m   1358\u001b[0m \u001b[43m        \u001b[49m\u001b[43msrc\u001b[49m\u001b[43m,\u001b[49m\n\u001b[1;32m   1359\u001b[0m \u001b[43m        \u001b[49m\u001b[38;5;124;43m\"\u001b[39;49m\u001b[38;5;124;43mr\u001b[39;49m\u001b[38;5;124;43m\"\u001b[39;49m\u001b[43m,\u001b[49m\n\u001b[1;32m   1360\u001b[0m \u001b[43m        \u001b[49m\u001b[43mencoding\u001b[49m\u001b[38;5;241;43m=\u001b[39;49m\u001b[43mkwds\u001b[49m\u001b[38;5;241;43m.\u001b[39;49m\u001b[43mget\u001b[49m\u001b[43m(\u001b[49m\u001b[38;5;124;43m\"\u001b[39;49m\u001b[38;5;124;43mencoding\u001b[39;49m\u001b[38;5;124;43m\"\u001b[39;49m\u001b[43m,\u001b[49m\u001b[43m \u001b[49m\u001b[38;5;28;43;01mNone\u001b[39;49;00m\u001b[43m)\u001b[49m\u001b[43m,\u001b[49m\n\u001b[1;32m   1361\u001b[0m \u001b[43m        \u001b[49m\u001b[43mcompression\u001b[49m\u001b[38;5;241;43m=\u001b[39;49m\u001b[43mkwds\u001b[49m\u001b[38;5;241;43m.\u001b[39;49m\u001b[43mget\u001b[49m\u001b[43m(\u001b[49m\u001b[38;5;124;43m\"\u001b[39;49m\u001b[38;5;124;43mcompression\u001b[39;49m\u001b[38;5;124;43m\"\u001b[39;49m\u001b[43m,\u001b[49m\u001b[43m \u001b[49m\u001b[38;5;28;43;01mNone\u001b[39;49;00m\u001b[43m)\u001b[49m\u001b[43m,\u001b[49m\n\u001b[1;32m   1362\u001b[0m \u001b[43m        \u001b[49m\u001b[43mmemory_map\u001b[49m\u001b[38;5;241;43m=\u001b[39;49m\u001b[43mkwds\u001b[49m\u001b[38;5;241;43m.\u001b[39;49m\u001b[43mget\u001b[49m\u001b[43m(\u001b[49m\u001b[38;5;124;43m\"\u001b[39;49m\u001b[38;5;124;43mmemory_map\u001b[39;49m\u001b[38;5;124;43m\"\u001b[39;49m\u001b[43m,\u001b[49m\u001b[43m \u001b[49m\u001b[38;5;28;43;01mFalse\u001b[39;49;00m\u001b[43m)\u001b[49m\u001b[43m,\u001b[49m\n\u001b[1;32m   1363\u001b[0m \u001b[43m        \u001b[49m\u001b[43mstorage_options\u001b[49m\u001b[38;5;241;43m=\u001b[39;49m\u001b[43mkwds\u001b[49m\u001b[38;5;241;43m.\u001b[39;49m\u001b[43mget\u001b[49m\u001b[43m(\u001b[49m\u001b[38;5;124;43m\"\u001b[39;49m\u001b[38;5;124;43mstorage_options\u001b[39;49m\u001b[38;5;124;43m\"\u001b[39;49m\u001b[43m,\u001b[49m\u001b[43m \u001b[49m\u001b[38;5;28;43;01mNone\u001b[39;49;00m\u001b[43m)\u001b[49m\u001b[43m,\u001b[49m\n\u001b[1;32m   1364\u001b[0m \u001b[43m    \u001b[49m\u001b[43m)\u001b[49m\n",
      "File \u001b[0;32m~/miniconda3/envs/revealer/lib/python3.9/site-packages/pandas/io/common.py:642\u001b[0m, in \u001b[0;36mget_handle\u001b[0;34m(path_or_buf, mode, encoding, compression, memory_map, is_text, errors, storage_options)\u001b[0m\n\u001b[1;32m    640\u001b[0m         errors \u001b[38;5;241m=\u001b[39m \u001b[38;5;124m\"\u001b[39m\u001b[38;5;124mreplace\u001b[39m\u001b[38;5;124m\"\u001b[39m\n\u001b[1;32m    641\u001b[0m     \u001b[38;5;66;03m# Encoding\u001b[39;00m\n\u001b[0;32m--> 642\u001b[0m     handle \u001b[38;5;241m=\u001b[39m \u001b[38;5;28;43mopen\u001b[39;49m\u001b[43m(\u001b[49m\n\u001b[1;32m    643\u001b[0m \u001b[43m        \u001b[49m\u001b[43mhandle\u001b[49m\u001b[43m,\u001b[49m\n\u001b[1;32m    644\u001b[0m \u001b[43m        \u001b[49m\u001b[43mioargs\u001b[49m\u001b[38;5;241;43m.\u001b[39;49m\u001b[43mmode\u001b[49m\u001b[43m,\u001b[49m\n\u001b[1;32m    645\u001b[0m \u001b[43m        \u001b[49m\u001b[43mencoding\u001b[49m\u001b[38;5;241;43m=\u001b[39;49m\u001b[43mioargs\u001b[49m\u001b[38;5;241;43m.\u001b[39;49m\u001b[43mencoding\u001b[49m\u001b[43m,\u001b[49m\n\u001b[1;32m    646\u001b[0m \u001b[43m        \u001b[49m\u001b[43merrors\u001b[49m\u001b[38;5;241;43m=\u001b[39;49m\u001b[43merrors\u001b[49m\u001b[43m,\u001b[49m\n\u001b[1;32m    647\u001b[0m \u001b[43m        \u001b[49m\u001b[43mnewline\u001b[49m\u001b[38;5;241;43m=\u001b[39;49m\u001b[38;5;124;43m\"\u001b[39;49m\u001b[38;5;124;43m\"\u001b[39;49m\u001b[43m,\u001b[49m\n\u001b[1;32m    648\u001b[0m \u001b[43m    \u001b[49m\u001b[43m)\u001b[49m\n\u001b[1;32m    649\u001b[0m \u001b[38;5;28;01melse\u001b[39;00m:\n\u001b[1;32m    650\u001b[0m     \u001b[38;5;66;03m# Binary mode\u001b[39;00m\n\u001b[1;32m    651\u001b[0m     handle \u001b[38;5;241m=\u001b[39m \u001b[38;5;28mopen\u001b[39m(handle, ioargs\u001b[38;5;241m.\u001b[39mmode)\n",
      "\u001b[0;31mFileNotFoundError\u001b[0m: [Errno 2] No such file or directory: 'sample_input/CCLE_mutations_v2.txt'"
     ]
    }
   ],
   "source": [
    "produce_mutation_file(maf_input_file='sample_input/CCLE_mutations_v2.txt', # Input maf file\n",
    "                      protein_change_identifier='Protein_Change', # Identifier for protein_change\n",
    "                      gct_output_file_prefix='CCLE', # Prefix for output file\n",
    "                      out_folder='sample_output/preprocess') # Folder for outputs"
   ]
  },
  {
   "cell_type": "markdown",
   "id": "8e218ebd-1c03-475f-8db1-1fc44d4a7fd1",
   "metadata": {},
   "source": [
    "# Run input preparation from maf file (Adding more filter)"
   ]
  },
  {
   "cell_type": "code",
   "execution_count": null,
   "id": "c459f78a-d20b-4116-b17c-deef1ba28a6e",
   "metadata": {
    "scrolled": true
   },
   "outputs": [],
   "source": [
    "produce_mutation_file(\n",
    "    maf_input_file = 'featureFiles/tcga_pancancer_082115.vep.filter_whitelisted.maf', # Input maf file\n",
    "    out_folder = 'featureFiles', # Output folder\n",
    "    gct_output_file_prefix = 'TCGA_NFE2L2', # Prefix for output files\n",
    "    phenotype_file = 'featureFiles/TCGA_NFE2L2.gct', # Phenotype file to correlate the features\n",
    "    phenotype_name = 'NFE2L2.V2', # Name of phenotype to extract\n",
    "    protein_change_identifier = 'HGVSp_Short', # Identifier for protein\n",
    "    mode = 'weight', # mode to get weight\n",
    "    weight_threshold = 0.02, # Threshold(IC) to extract samples\n",
    "    k = 30, \n",
    "    frequency_threshold = 5, # This is frequency to extract feature, more than this threshold is extracted.\n",
    "\n",
    "############# ABOVE IS WHAT WE USUALLY CHANGE ################3\n",
    "\n",
    "    gct_input_file = None,\n",
    "    file_separator = '\\t',\n",
    "    class_seperator = '_',\n",
    "    class_list = class_list,\n",
    "    direction = 'pos',\n",
    "    gene_list = None,\n",
    "    name_match = False,\n",
    "    make_figure = False,\n",
    "    figure_format = 'pdf',\n",
    "    ratio = 1/3,\n",
    "    sample_list = 'None',\n",
    "    total_ratio = 0.4,\n",
    "    if_gmt = True\n",
    ")"
   ]
  },
  {
   "cell_type": "markdown",
   "id": "aa263259-70de-4d3b-913a-a791870c3918",
   "metadata": {},
   "source": [
    "# Run REVEALER (simplified)"
   ]
  },
  {
   "cell_type": "code",
   "execution_count": null,
   "id": "101e547e-0fd0-421a-b31e-88d7d8f41eb7",
   "metadata": {},
   "outputs": [],
   "source": [
    "runREVEALER(target_file='sample_input/NRF2_activation_profile.gct',\n",
    "            feature_file='sample_input/CCLE_MUT_CNA_AMP_DEL_0.70_2fold.MC_original.gct',\n",
    "            seed_name=['NFE2L2.MC_MUT','NFE2L2_AMP'],\n",
    "            out_folder='sample_output/NRF2',\n",
    "            prefix='NRF2',\n",
    "            target_name='NFE2L2.V2',\n",
    "            if_pval=False, # Calculating p-value takes long time\n",
    "            if_bootstrap=False, # Same, takes long time\n",
    "            if_intermediate=True,\n",
    "            gene_locus='sample_input/allgeneLocus.txt')"
   ]
  },
  {
   "cell_type": "markdown",
   "id": "6f09a10a-220f-4559-afa7-8bcb7a68650d",
   "metadata": {},
   "source": [
    "# Run REVEALER (Adding more filter)"
   ]
  },
  {
   "cell_type": "code",
   "execution_count": null,
   "id": "51a1f35a-e401-4884-9b4d-ea8223385f15",
   "metadata": {},
   "outputs": [],
   "source": [
    "runREVEALER(\n",
    "    target_file='featureFiles/TCGA_other_pathways.gct', # gct file for target(continuous or binary)\n",
    "    feature_file='featureFiles/TCGA_Mut_All.gct', # gct file for features(binary)\n",
    "    seed_file='featureFiles/TCGA_mut_all_cna.gct', # file for seed, if not provided, feature file is used directly \n",
    "    prefix='TCGA_CTGF_CYR61_mutall_HNSC', # prefix for result files \n",
    "    seed_name=['YAP1_AMP'], # names for seed, should be a list of string indicating the name of seed\n",
    "    target_name='CTGF_CYR61', # name/index of target in target file. can be int n for nth row, or string s for row with index s\n",
    "    gene_locus='featureFiles/allgeneLocus.txt', # gene_locus file indicating gene name and location of that gene\n",
    "    out_folder='Results/TCGA_CTGF_CYR61_mutall_HNSC', # folder to put output files inside\n",
    "    tissue_file = 'featureFiles/TCGA_HNSC_list.txt', # Put this if you want to subset specific samples to use \n",
    "    gmt_file = 'featureFiles/TCGA_Mut_All.gmt', # gmt file for allele information\n",
    "    low_threshold=10, # lowest threshold that feature with less than this value occurence will be removed\n",
    "    high_threshold=500, # highest threshold that feature with less than this value occurence will be removed\n",
    "    alpha = 1, # raise original value by power x\n",
    "    max_iteration=15, # maximum of iteration for best CIC discovery, automatic detection by IC value if -1 \n",
    "    subset=subset, # if list of string passed, only columns in this list is picked for calculation\n",
    "    if_pval=False, # if True, p-values are calculated for all result\n",
    "    if_bootstrap=False, # if True, variance by bootstrap is calculated for all result\n",
    "    k=30, # size of kernel for k standard deviation away\n",
    "\n",
    "############# ABOVE IS WHAT WE USUALLY CHANGE ################3\n",
    "\n",
    "    bandwidth_mult=0.65, # multiplication for bandwidth\n",
    "    bandwidth_adj=-0.95, # adjustion value for bandwidth\n",
    "    direction='pos', # direction that feature should match with target\n",
    "    mode='single', # indicate if multiple parameter set is passes. if True, then prefix, k, grid, bandwidth_mult, and bandwidth_adj has to be a list\n",
    "    num_top=30, # number of top matches shown in intermediate file\n",
    "    collapse=False, # indicate if same features are collapsed together for intermediate files\n",
    "    normalize='standard', # normalize method for target\n",
    "    verbose=1, # verbose level(if 0, no report)\n",
    "    thread_number=1, # number of core used for parallel computing.\n",
    "    figure_format='pdf', # format for result figure\n",
    "    if_cluster=False, # if True, features in intermediate files are clustered with NMF \n",
    "    if_intermediate=True, # if True, intermediate result with top CIC value features are reported\n",
    "    gene_set = None, # set of gene to run REVEALER\n",
    "    gene_separator = '_',  #separator between gene and later part\n",
    ")"
   ]
  }
 ],
 "metadata": {
  "kernelspec": {
   "display_name": "python-revealer",
   "language": "python",
   "name": "revealer"
  },
  "language_info": {
   "codemirror_mode": {
    "name": "ipython",
    "version": 3
   },
   "file_extension": ".py",
   "mimetype": "text/x-python",
   "name": "python",
   "nbconvert_exporter": "python",
   "pygments_lexer": "ipython3",
   "version": "3.9.16"
  }
 },
 "nbformat": 4,
 "nbformat_minor": 5
}
